{
 "cells": [
  {
   "cell_type": "code",
   "execution_count": 122,
   "metadata": {},
   "outputs": [],
   "source": [
    "## Import libraries\n",
    "import pandas as pd\n",
    "import numpy as np\n",
    "from sklearn import tree\n",
    "from sklearn.model_selection import KFold\n",
    "from sklearn.linear_model import LogisticRegression\n",
    "from sklearn.metrics import roc_auc_score, roc_curve, PrecisionRecallDisplay, auc, precision_recall_fscore_support, accuracy_score\n",
    "from sklearn.tree import DecisionTreeClassifier\n",
    "import matplotlib.pyplot as plt\n",
    "import graphviz"
   ]
  },
  {
   "cell_type": "code",
   "execution_count": 123,
   "metadata": {},
   "outputs": [],
   "source": [
    "## Ignore warnings\n",
    "import warnings\n",
    "warnings.filterwarnings(\"ignore\")"
   ]
  },
  {
   "cell_type": "code",
   "execution_count": 124,
   "metadata": {},
   "outputs": [],
   "source": [
    "## Read Dataset\n",
    "file_name = \"Final Dataset.xlsx\"\n",
    "df = pd.read_excel(file_name, sheet_name = 0)"
   ]
  },
  {
   "cell_type": "code",
   "execution_count": 125,
   "metadata": {},
   "outputs": [
    {
     "name": "stdout",
     "output_type": "stream",
     "text": [
      "0    5591\n",
      "1      47\n",
      "Name: TARGET, dtype: int64\n",
      "0    1391\n",
      "1      18\n",
      "Name: TARGET, dtype: int64\n"
     ]
    }
   ],
   "source": [
    "## Chop off extra space in some Vessel entries\n",
    "df[\"VESSEL\"] = df.VESSEL.str.replace(r\"\\b $\", \"\", regex=True).str.strip()\n",
    "## Convert time to float\n",
    "df[\"TIME\"] = df[\"TIME\"].astype(\"str\")\n",
    "df[\"TIME\"] = pd.to_datetime(df[\"TIME\"])\n",
    "df[\"TIME\"] = df[\"TIME\"].dt.hour+df[\"TIME\"].dt.minute/60\n",
    "## Replace target classes with 0, 1\n",
    "di = {\"NOT SERIOUS\": 0, \"SERIOUS\": 1}\n",
    "df = df.replace({\"TARGET\": di})\n",
    "## Organize columns\n",
    "cols = list(df.columns)\n",
    "cols.remove(\"INJURY\")\n",
    "cols.remove(\"TARGET\")\n",
    "cols.remove(\"VESSEL\")\n",
    "class_weight = [df[\"TARGET\"].value_counts()[0], df[\"TARGET\"].value_counts()[1]]\n",
    "## Split into train and validation set\n",
    "row_idx = int(len(df.index)/5)\n",
    "train_set = df[row_idx+1:]\n",
    "test_set = df[:row_idx]\n",
    "## Print class breakdown of train and validation set\n",
    "print(train_set[\"TARGET\"].value_counts())\n",
    "print(test_set[\"TARGET\"].value_counts())"
   ]
  },
  {
   "cell_type": "code",
   "execution_count": 126,
   "metadata": {},
   "outputs": [],
   "source": [
    "## Initialize classifier and training set\n",
    "X = train_set[cols]\n",
    "y = train_set[\"TARGET\"]"
   ]
  },
  {
   "cell_type": "code",
   "execution_count": 127,
   "metadata": {},
   "outputs": [],
   "source": [
    "## K-folds CV\n",
    "def kfolds(X, y, model, n_splits=4, cat_features=None):\n",
    "    kf = KFold(n_splits=n_splits)\n",
    "    kf.get_n_splits(X)\n",
    "    max_acc = 0\n",
    "    for train_index, test_index in kf.split(X):\n",
    "        X_train, X_test = X.iloc[train_index], X.iloc[test_index]\n",
    "        y_train, y_test = y.iloc[train_index], y.iloc[test_index]\n",
    "        model.fit(X_train.values, y_train)\n",
    "        y_pred = model.predict(X_test)\n",
    "        acc = accuracy_score(y_test, y_pred)\n",
    "        if acc > max_acc:\n",
    "            max_acc = acc\n",
    "            best_model = model\n",
    "    return best_model"
   ]
  },
  {
   "cell_type": "code",
   "execution_count": 128,
   "metadata": {},
   "outputs": [],
   "source": [
    "## Initialize classifiers\n",
    "lgr = LogisticRegression(random_state=0, class_weight=\"balanced\", max_iter=1000)\n",
    "clf = DecisionTreeClassifier(random_state=0, class_weight=\"balanced\", max_depth=3, criterion=\"entropy\")"
   ]
  },
  {
   "cell_type": "code",
   "execution_count": 129,
   "metadata": {},
   "outputs": [],
   "source": [
    "## Fit classifiers to data\n",
    "best_lgr = kfolds(X, y, lgr)\n",
    "best_clf = kfolds(X, y, clf)"
   ]
  },
  {
   "cell_type": "code",
   "execution_count": 130,
   "metadata": {},
   "outputs": [
    {
     "name": "stdout",
     "output_type": "stream",
     "text": [
      "FEATURE: RANK, Importance: -0.0460\n",
      "FEATURE: RATEG, Importance: 0.1582\n",
      "FEATURE: AREA, Importance: 0.0197\n",
      "FEATURE: TIME, Importance: 0.0547\n",
      "FEATURE: DAY, Importance: 0.0272\n",
      "FEATURE: MONTH, Importance: -0.0419\n",
      "FEATURE: YEAR, Importance: -0.0007\n"
     ]
    }
   ],
   "source": [
    "## Print feature importance of logisitc regression model\n",
    "weights = best_lgr.coef_[0]\n",
    "for feature, weight in zip(cols, weights):\n",
    "    print(\"FEATURE: %s, Importance: %.4f\" % (feature, weight))"
   ]
  },
  {
   "cell_type": "code",
   "execution_count": 131,
   "metadata": {},
   "outputs": [],
   "source": [
    "## Get confusion matrix\n",
    "def confusion_matrix(y_true, y_pred):\n",
    "    metrics = precision_recall_fscore_support(y_true, y_pred, average='weighted')\n",
    "    print(\"PRECISION: %.2f%%\" % (metrics[0]*100))\n",
    "    print(\"RECALL: %.2f%%\" % (metrics[1]*100))\n",
    "    print(\"ACCURACY: %.2f%%\" % (accuracy_score(y_true, y_pred)*100))\n",
    "    print(\"F-SCORE: %.2f%%\" % (metrics[2]*100))"
   ]
  },
  {
   "cell_type": "code",
   "execution_count": 132,
   "metadata": {},
   "outputs": [
    {
     "name": "stdout",
     "output_type": "stream",
     "text": [
      "===LOGISTIC REGRESSION MODEL===\n",
      "PRECISION: 97.92%\n",
      "RECALL: 59.62%\n",
      "ACCURACY: 59.62%\n",
      "F-SCORE: 73.55%\n",
      "===DECISION TREE MODEL===\n",
      "PRECISION: 97.42%\n",
      "RECALL: 84.17%\n",
      "ACCURACY: 84.17%\n",
      "F-SCORE: 90.25%\n"
     ]
    }
   ],
   "source": [
    "## Print classifier accuracy and show precision-recall curve\n",
    "y_true = test_set[\"TARGET\"]\n",
    "y_pred = best_lgr.predict(test_set[cols])\n",
    "print(\"===LOGISTIC REGRESSION MODEL===\")\n",
    "confusion_matrix(y_true, y_pred)\n",
    "\n",
    "y_pred = best_clf.predict(test_set[cols])\n",
    "print(\"===DECISION TREE MODEL===\")\n",
    "confusion_matrix(y_true, y_pred)"
   ]
  },
  {
   "cell_type": "code",
   "execution_count": 133,
   "metadata": {},
   "outputs": [
    {
     "data": {
      "image/svg+xml": "<?xml version=\"1.0\" encoding=\"UTF-8\" standalone=\"no\"?>\n<!DOCTYPE svg PUBLIC \"-//W3C//DTD SVG 1.1//EN\"\n \"http://www.w3.org/Graphics/SVG/1.1/DTD/svg11.dtd\">\n<!-- Generated by graphviz version 2.49.0 (0)\n -->\n<!-- Title: Tree Pages: 1 -->\n<svg width=\"470pt\" height=\"433pt\"\n viewBox=\"0.00 0.00 470.00 433.00\" xmlns=\"http://www.w3.org/2000/svg\" xmlns:xlink=\"http://www.w3.org/1999/xlink\">\n<g id=\"graph0\" class=\"graph\" transform=\"scale(1 1) rotate(0) translate(4 429)\">\n<title>Tree</title>\n<polygon fill=\"white\" stroke=\"transparent\" points=\"-4,4 -4,-429 466,-429 466,4 -4,4\"/>\n<!-- 0 -->\n<g id=\"node1\" class=\"node\">\n<title>0</title>\n<polygon fill=\"#ffffff\" stroke=\"black\" points=\"283.5,-425 118.5,-425 118.5,-342 283.5,-342 283.5,-425\"/>\n<text text-anchor=\"middle\" x=\"201\" y=\"-409.8\" font-family=\"Helvetica,sans-Serif\" font-size=\"14.00\">RATEG &lt;= 1.5</text>\n<text text-anchor=\"middle\" x=\"201\" y=\"-394.8\" font-family=\"Helvetica,sans-Serif\" font-size=\"14.00\">entropy = 1.0</text>\n<text text-anchor=\"middle\" x=\"201\" y=\"-379.8\" font-family=\"Helvetica,sans-Serif\" font-size=\"14.00\">samples = 4229</text>\n<text text-anchor=\"middle\" x=\"201\" y=\"-364.8\" font-family=\"Helvetica,sans-Serif\" font-size=\"14.00\">value = [2114.5, 2114.5]</text>\n<text text-anchor=\"middle\" x=\"201\" y=\"-349.8\" font-family=\"Helvetica,sans-Serif\" font-size=\"14.00\">class = Not Serious</text>\n</g>\n<!-- 1 -->\n<g id=\"node2\" class=\"node\">\n<title>1</title>\n<polygon fill=\"#e58139\" stroke=\"black\" points=\"185,-298.5 33,-298.5 33,-230.5 185,-230.5 185,-298.5\"/>\n<text text-anchor=\"middle\" x=\"109\" y=\"-283.3\" font-family=\"Helvetica,sans-Serif\" font-size=\"14.00\">entropy = 0.0</text>\n<text text-anchor=\"middle\" x=\"109\" y=\"-268.3\" font-family=\"Helvetica,sans-Serif\" font-size=\"14.00\">samples = 449</text>\n<text text-anchor=\"middle\" x=\"109\" y=\"-253.3\" font-family=\"Helvetica,sans-Serif\" font-size=\"14.00\">value = [225.728, 0.0]</text>\n<text text-anchor=\"middle\" x=\"109\" y=\"-238.3\" font-family=\"Helvetica,sans-Serif\" font-size=\"14.00\">class = Not Serious</text>\n</g>\n<!-- 0&#45;&gt;1 -->\n<g id=\"edge1\" class=\"edge\">\n<title>0&#45;&gt;1</title>\n<path fill=\"none\" stroke=\"black\" d=\"M169.08,-341.91C160.14,-330.54 150.42,-318.18 141.45,-306.77\"/>\n<polygon fill=\"black\" stroke=\"black\" points=\"144.01,-304.36 135.08,-298.67 138.51,-308.69 144.01,-304.36\"/>\n<text text-anchor=\"middle\" x=\"132.11\" y=\"-319.79\" font-family=\"Helvetica,sans-Serif\" font-size=\"14.00\">True</text>\n</g>\n<!-- 2 -->\n<g id=\"node3\" class=\"node\">\n<title>2</title>\n<polygon fill=\"#eaf5fc\" stroke=\"black\" points=\"385,-306 203,-306 203,-223 385,-223 385,-306\"/>\n<text text-anchor=\"middle\" x=\"294\" y=\"-290.8\" font-family=\"Helvetica,sans-Serif\" font-size=\"14.00\">RATEG &lt;= 5.5</text>\n<text text-anchor=\"middle\" x=\"294\" y=\"-275.8\" font-family=\"Helvetica,sans-Serif\" font-size=\"14.00\">entropy = 0.998</text>\n<text text-anchor=\"middle\" x=\"294\" y=\"-260.8\" font-family=\"Helvetica,sans-Serif\" font-size=\"14.00\">samples = 3780</text>\n<text text-anchor=\"middle\" x=\"294\" y=\"-245.8\" font-family=\"Helvetica,sans-Serif\" font-size=\"14.00\">value = [1888.772, 2114.5]</text>\n<text text-anchor=\"middle\" x=\"294\" y=\"-230.8\" font-family=\"Helvetica,sans-Serif\" font-size=\"14.00\">class = Serious</text>\n</g>\n<!-- 0&#45;&gt;2 -->\n<g id=\"edge2\" class=\"edge\">\n<title>0&#45;&gt;2</title>\n<path fill=\"none\" stroke=\"black\" d=\"M233.27,-341.91C240.41,-332.92 248.04,-323.32 255.41,-314.05\"/>\n<polygon fill=\"black\" stroke=\"black\" points=\"258.31,-316.03 261.79,-306.02 252.83,-311.67 258.31,-316.03\"/>\n<text text-anchor=\"middle\" x=\"264.63\" y=\"-327.16\" font-family=\"Helvetica,sans-Serif\" font-size=\"14.00\">False</text>\n</g>\n<!-- 3 -->\n<g id=\"node4\" class=\"node\">\n<title>3</title>\n<polygon fill=\"#dcedfa\" stroke=\"black\" points=\"292,-187 110,-187 110,-104 292,-104 292,-187\"/>\n<text text-anchor=\"middle\" x=\"201\" y=\"-171.8\" font-family=\"Helvetica,sans-Serif\" font-size=\"14.00\">TIME &lt;= 17.983</text>\n<text text-anchor=\"middle\" x=\"201\" y=\"-156.8\" font-family=\"Helvetica,sans-Serif\" font-size=\"14.00\">entropy = 0.993</text>\n<text text-anchor=\"middle\" x=\"201\" y=\"-141.8\" font-family=\"Helvetica,sans-Serif\" font-size=\"14.00\">samples = 3476</text>\n<text text-anchor=\"middle\" x=\"201\" y=\"-126.8\" font-family=\"Helvetica,sans-Serif\" font-size=\"14.00\">value = [1735.941, 2114.5]</text>\n<text text-anchor=\"middle\" x=\"201\" y=\"-111.8\" font-family=\"Helvetica,sans-Serif\" font-size=\"14.00\">class = Serious</text>\n</g>\n<!-- 2&#45;&gt;3 -->\n<g id=\"edge3\" class=\"edge\">\n<title>2&#45;&gt;3</title>\n<path fill=\"none\" stroke=\"black\" d=\"M261.73,-222.91C254.59,-213.92 246.96,-204.32 239.59,-195.05\"/>\n<polygon fill=\"black\" stroke=\"black\" points=\"242.17,-192.67 233.21,-187.02 236.69,-197.03 242.17,-192.67\"/>\n</g>\n<!-- 6 -->\n<g id=\"node7\" class=\"node\">\n<title>6</title>\n<polygon fill=\"#e58139\" stroke=\"black\" points=\"462,-179.5 310,-179.5 310,-111.5 462,-111.5 462,-179.5\"/>\n<text text-anchor=\"middle\" x=\"386\" y=\"-164.3\" font-family=\"Helvetica,sans-Serif\" font-size=\"14.00\">entropy = &#45;0.0</text>\n<text text-anchor=\"middle\" x=\"386\" y=\"-149.3\" font-family=\"Helvetica,sans-Serif\" font-size=\"14.00\">samples = 304</text>\n<text text-anchor=\"middle\" x=\"386\" y=\"-134.3\" font-family=\"Helvetica,sans-Serif\" font-size=\"14.00\">value = [152.831, 0.0]</text>\n<text text-anchor=\"middle\" x=\"386\" y=\"-119.3\" font-family=\"Helvetica,sans-Serif\" font-size=\"14.00\">class = Not Serious</text>\n</g>\n<!-- 2&#45;&gt;6 -->\n<g id=\"edge6\" class=\"edge\">\n<title>2&#45;&gt;6</title>\n<path fill=\"none\" stroke=\"black\" d=\"M325.92,-222.91C334.86,-211.54 344.58,-199.18 353.55,-187.77\"/>\n<polygon fill=\"black\" stroke=\"black\" points=\"356.49,-189.69 359.92,-179.67 350.99,-185.36 356.49,-189.69\"/>\n</g>\n<!-- 4 -->\n<g id=\"node5\" class=\"node\">\n<title>4</title>\n<polygon fill=\"#fdf5f0\" stroke=\"black\" points=\"198,-68 0,-68 0,0 198,0 198,-68\"/>\n<text text-anchor=\"middle\" x=\"99\" y=\"-52.8\" font-family=\"Helvetica,sans-Serif\" font-size=\"14.00\">entropy = 0.999</text>\n<text text-anchor=\"middle\" x=\"99\" y=\"-37.8\" font-family=\"Helvetica,sans-Serif\" font-size=\"14.00\">samples = 2783</text>\n<text text-anchor=\"middle\" x=\"99\" y=\"-22.8\" font-family=\"Helvetica,sans-Serif\" font-size=\"14.00\">value = [1392.071, 1287.087]</text>\n<text text-anchor=\"middle\" x=\"99\" y=\"-7.8\" font-family=\"Helvetica,sans-Serif\" font-size=\"14.00\">class = Not Serious</text>\n</g>\n<!-- 3&#45;&gt;4 -->\n<g id=\"edge4\" class=\"edge\">\n<title>3&#45;&gt;4</title>\n<path fill=\"none\" stroke=\"black\" d=\"M163.02,-103.73C154.52,-94.61 145.51,-84.93 137.01,-75.81\"/>\n<polygon fill=\"black\" stroke=\"black\" points=\"139.4,-73.23 130.02,-68.3 134.27,-78 139.4,-73.23\"/>\n</g>\n<!-- 5 -->\n<g id=\"node6\" class=\"node\">\n<title>5</title>\n<polygon fill=\"#8bc6f0\" stroke=\"black\" points=\"391.5,-68 216.5,-68 216.5,0 391.5,0 391.5,-68\"/>\n<text text-anchor=\"middle\" x=\"304\" y=\"-52.8\" font-family=\"Helvetica,sans-Serif\" font-size=\"14.00\">entropy = 0.873</text>\n<text text-anchor=\"middle\" x=\"304\" y=\"-37.8\" font-family=\"Helvetica,sans-Serif\" font-size=\"14.00\">samples = 693</text>\n<text text-anchor=\"middle\" x=\"304\" y=\"-22.8\" font-family=\"Helvetica,sans-Serif\" font-size=\"14.00\">value = [343.87, 827.413]</text>\n<text text-anchor=\"middle\" x=\"304\" y=\"-7.8\" font-family=\"Helvetica,sans-Serif\" font-size=\"14.00\">class = Serious</text>\n</g>\n<!-- 3&#45;&gt;5 -->\n<g id=\"edge5\" class=\"edge\">\n<title>3&#45;&gt;5</title>\n<path fill=\"none\" stroke=\"black\" d=\"M239.35,-103.73C247.93,-94.61 257.03,-84.93 265.61,-75.81\"/>\n<polygon fill=\"black\" stroke=\"black\" points=\"268.37,-77.98 272.68,-68.3 263.28,-73.19 268.37,-77.98\"/>\n</g>\n</g>\n</svg>\n",
      "text/plain": [
       "<graphviz.files.Source at 0x7fa848e70af0>"
      ]
     },
     "execution_count": 133,
     "metadata": {},
     "output_type": "execute_result"
    }
   ],
   "source": [
    "## Visualize tree\n",
    "dot_data = tree.export_graphviz(best_clf, out_file=None, feature_names=cols, class_names=[\"Not Serious\", \"Serious\"], filled=True)\n",
    "graph = graphviz.Source(dot_data, format=\"png\") \n",
    "graph"
   ]
  },
  {
   "cell_type": "code",
   "execution_count": 134,
   "metadata": {},
   "outputs": [],
   "source": [
    "## Adjust features based on LR model\n",
    "cols.remove(\"MONTH\")\n",
    "cols.remove(\"YEAR\")\n",
    "cols.remove(\"RATEG\")\n",
    "cols.remove(\"DAY\")\n",
    "X = train_set[cols]"
   ]
  },
  {
   "cell_type": "code",
   "execution_count": 135,
   "metadata": {},
   "outputs": [],
   "source": [
    "## Initialize new tree classifier\n",
    "reduced_clf = DecisionTreeClassifier(random_state=0, class_weight=\"balanced\", max_depth=3, criterion=\"entropy\")"
   ]
  },
  {
   "cell_type": "code",
   "execution_count": 136,
   "metadata": {},
   "outputs": [],
   "source": [
    "## Fit tree to reduced training set\n",
    "reduced_clf = kfolds(X, y, reduced_clf)"
   ]
  },
  {
   "cell_type": "code",
   "execution_count": 137,
   "metadata": {},
   "outputs": [
    {
     "name": "stdout",
     "output_type": "stream",
     "text": [
      "===REDUCED DECISION TREE MODEL===\n",
      "PRECISION: 96.93%\n",
      "RECALL: 46.27%\n",
      "ACCURACY: 46.27%\n",
      "F-SCORE: 62.27%\n"
     ]
    }
   ],
   "source": [
    "## Print classifier accuracy and show precision-recall curve\n",
    "y_true = test_set[\"TARGET\"]\n",
    "y_pred = reduced_clf.predict(test_set[cols])\n",
    "print(\"===REDUCED DECISION TREE MODEL===\")\n",
    "confusion_matrix(y_true, y_pred)"
   ]
  },
  {
   "cell_type": "code",
   "execution_count": 138,
   "metadata": {},
   "outputs": [
    {
     "data": {
      "image/svg+xml": "<?xml version=\"1.0\" encoding=\"UTF-8\" standalone=\"no\"?>\n<!DOCTYPE svg PUBLIC \"-//W3C//DTD SVG 1.1//EN\"\n \"http://www.w3.org/Graphics/SVG/1.1/DTD/svg11.dtd\">\n<!-- Generated by graphviz version 2.49.0 (0)\n -->\n<!-- Title: Tree Pages: 1 -->\n<svg width=\"1095pt\" height=\"433pt\"\n viewBox=\"0.00 0.00 1094.50 433.00\" xmlns=\"http://www.w3.org/2000/svg\" xmlns:xlink=\"http://www.w3.org/1999/xlink\">\n<g id=\"graph0\" class=\"graph\" transform=\"scale(1 1) rotate(0) translate(4 429)\">\n<title>Tree</title>\n<polygon fill=\"white\" stroke=\"transparent\" points=\"-4,4 -4,-429 1090.5,-429 1090.5,4 -4,4\"/>\n<!-- 0 -->\n<g id=\"node1\" class=\"node\">\n<title>0</title>\n<polygon fill=\"#ffffff\" stroke=\"black\" points=\"661,-425 496,-425 496,-342 661,-342 661,-425\"/>\n<text text-anchor=\"middle\" x=\"578.5\" y=\"-409.8\" font-family=\"Helvetica,sans-Serif\" font-size=\"14.00\">TIME &lt;= 17.992</text>\n<text text-anchor=\"middle\" x=\"578.5\" y=\"-394.8\" font-family=\"Helvetica,sans-Serif\" font-size=\"14.00\">entropy = 1.0</text>\n<text text-anchor=\"middle\" x=\"578.5\" y=\"-379.8\" font-family=\"Helvetica,sans-Serif\" font-size=\"14.00\">samples = 4229</text>\n<text text-anchor=\"middle\" x=\"578.5\" y=\"-364.8\" font-family=\"Helvetica,sans-Serif\" font-size=\"14.00\">value = [2114.5, 2114.5]</text>\n<text text-anchor=\"middle\" x=\"578.5\" y=\"-349.8\" font-family=\"Helvetica,sans-Serif\" font-size=\"14.00\">class = Not Serious</text>\n</g>\n<!-- 1 -->\n<g id=\"node2\" class=\"node\">\n<title>1</title>\n<polygon fill=\"#f9e0cf\" stroke=\"black\" points=\"573.5,-306 375.5,-306 375.5,-223 573.5,-223 573.5,-306\"/>\n<text text-anchor=\"middle\" x=\"474.5\" y=\"-290.8\" font-family=\"Helvetica,sans-Serif\" font-size=\"14.00\">TIME &lt;= 13.525</text>\n<text text-anchor=\"middle\" x=\"474.5\" y=\"-275.8\" font-family=\"Helvetica,sans-Serif\" font-size=\"14.00\">entropy = 0.986</text>\n<text text-anchor=\"middle\" x=\"474.5\" y=\"-260.8\" font-family=\"Helvetica,sans-Serif\" font-size=\"14.00\">samples = 3395</text>\n<text text-anchor=\"middle\" x=\"474.5\" y=\"-245.8\" font-family=\"Helvetica,sans-Serif\" font-size=\"14.00\">value = [1699.744, 1287.087]</text>\n<text text-anchor=\"middle\" x=\"474.5\" y=\"-230.8\" font-family=\"Helvetica,sans-Serif\" font-size=\"14.00\">class = Not Serious</text>\n</g>\n<!-- 0&#45;&gt;1 -->\n<g id=\"edge1\" class=\"edge\">\n<title>0&#45;&gt;1</title>\n<path fill=\"none\" stroke=\"black\" d=\"M542.42,-341.91C534.35,-332.83 525.72,-323.12 517.41,-313.77\"/>\n<polygon fill=\"black\" stroke=\"black\" points=\"519.78,-311.17 510.52,-306.02 514.55,-315.82 519.78,-311.17\"/>\n<text text-anchor=\"middle\" x=\"509.05\" y=\"-327.28\" font-family=\"Helvetica,sans-Serif\" font-size=\"14.00\">True</text>\n</g>\n<!-- 6 -->\n<g id=\"node7\" class=\"node\">\n<title>6</title>\n<polygon fill=\"#9ccef2\" stroke=\"black\" points=\"775,-306 592,-306 592,-223 775,-223 775,-306\"/>\n<text text-anchor=\"middle\" x=\"683.5\" y=\"-290.8\" font-family=\"Helvetica,sans-Serif\" font-size=\"14.00\">RANK &lt;= 4.5</text>\n<text text-anchor=\"middle\" x=\"683.5\" y=\"-275.8\" font-family=\"Helvetica,sans-Serif\" font-size=\"14.00\">entropy = 0.919</text>\n<text text-anchor=\"middle\" x=\"683.5\" y=\"-260.8\" font-family=\"Helvetica,sans-Serif\" font-size=\"14.00\">samples = 834</text>\n<text text-anchor=\"middle\" x=\"683.5\" y=\"-245.8\" font-family=\"Helvetica,sans-Serif\" font-size=\"14.00\">value = [414.756, 827.413]</text>\n<text text-anchor=\"middle\" x=\"683.5\" y=\"-230.8\" font-family=\"Helvetica,sans-Serif\" font-size=\"14.00\">class = Serious</text>\n</g>\n<!-- 0&#45;&gt;6 -->\n<g id=\"edge6\" class=\"edge\">\n<title>0&#45;&gt;6</title>\n<path fill=\"none\" stroke=\"black\" d=\"M614.93,-341.91C623.15,-332.74 631.96,-322.93 640.43,-313.49\"/>\n<polygon fill=\"black\" stroke=\"black\" points=\"643.06,-315.8 647.14,-306.02 637.85,-311.13 643.06,-315.8\"/>\n<text text-anchor=\"middle\" x=\"648.48\" y=\"-327.28\" font-family=\"Helvetica,sans-Serif\" font-size=\"14.00\">False</text>\n</g>\n<!-- 2 -->\n<g id=\"node3\" class=\"node\">\n<title>2</title>\n<polygon fill=\"#fdfeff\" stroke=\"black\" points=\"386.5,-187 188.5,-187 188.5,-104 386.5,-104 386.5,-187\"/>\n<text text-anchor=\"middle\" x=\"287.5\" y=\"-171.8\" font-family=\"Helvetica,sans-Serif\" font-size=\"14.00\">RANK &lt;= 3.5</text>\n<text text-anchor=\"middle\" x=\"287.5\" y=\"-156.8\" font-family=\"Helvetica,sans-Serif\" font-size=\"14.00\">entropy = 1.0</text>\n<text text-anchor=\"middle\" x=\"287.5\" y=\"-141.8\" font-family=\"Helvetica,sans-Serif\" font-size=\"14.00\">samples = 2542</text>\n<text text-anchor=\"middle\" x=\"287.5\" y=\"-126.8\" font-family=\"Helvetica,sans-Serif\" font-size=\"14.00\">value = [1270.912, 1287.087]</text>\n<text text-anchor=\"middle\" x=\"287.5\" y=\"-111.8\" font-family=\"Helvetica,sans-Serif\" font-size=\"14.00\">class = Serious</text>\n</g>\n<!-- 1&#45;&gt;2 -->\n<g id=\"edge2\" class=\"edge\">\n<title>1&#45;&gt;2</title>\n<path fill=\"none\" stroke=\"black\" d=\"M409.62,-222.91C393.96,-213.11 377.1,-202.56 361.07,-192.53\"/>\n<polygon fill=\"black\" stroke=\"black\" points=\"362.6,-189.36 352.26,-187.02 358.89,-195.29 362.6,-189.36\"/>\n</g>\n<!-- 5 -->\n<g id=\"node6\" class=\"node\">\n<title>5</title>\n<polygon fill=\"#e58139\" stroke=\"black\" points=\"556.5,-179.5 404.5,-179.5 404.5,-111.5 556.5,-111.5 556.5,-179.5\"/>\n<text text-anchor=\"middle\" x=\"480.5\" y=\"-164.3\" font-family=\"Helvetica,sans-Serif\" font-size=\"14.00\">entropy = &#45;0.0</text>\n<text text-anchor=\"middle\" x=\"480.5\" y=\"-149.3\" font-family=\"Helvetica,sans-Serif\" font-size=\"14.00\">samples = 853</text>\n<text text-anchor=\"middle\" x=\"480.5\" y=\"-134.3\" font-family=\"Helvetica,sans-Serif\" font-size=\"14.00\">value = [428.832, 0.0]</text>\n<text text-anchor=\"middle\" x=\"480.5\" y=\"-119.3\" font-family=\"Helvetica,sans-Serif\" font-size=\"14.00\">class = Not Serious</text>\n</g>\n<!-- 1&#45;&gt;5 -->\n<g id=\"edge5\" class=\"edge\">\n<title>1&#45;&gt;5</title>\n<path fill=\"none\" stroke=\"black\" d=\"M476.58,-222.91C477.13,-212.2 477.72,-200.62 478.28,-189.78\"/>\n<polygon fill=\"black\" stroke=\"black\" points=\"481.78,-189.83 478.8,-179.67 474.79,-189.47 481.78,-189.83\"/>\n</g>\n<!-- 3 -->\n<g id=\"node4\" class=\"node\">\n<title>3</title>\n<polygon fill=\"#f1b992\" stroke=\"black\" points=\"183,-68 0,-68 0,0 183,0 183,-68\"/>\n<text text-anchor=\"middle\" x=\"91.5\" y=\"-52.8\" font-family=\"Helvetica,sans-Serif\" font-size=\"14.00\">entropy = 0.892</text>\n<text text-anchor=\"middle\" x=\"91.5\" y=\"-37.8\" font-family=\"Helvetica,sans-Serif\" font-size=\"14.00\">samples = 1230</text>\n<text text-anchor=\"middle\" x=\"91.5\" y=\"-22.8\" font-family=\"Helvetica,sans-Serif\" font-size=\"14.00\">value = [616.855, 275.804]</text>\n<text text-anchor=\"middle\" x=\"91.5\" y=\"-7.8\" font-family=\"Helvetica,sans-Serif\" font-size=\"14.00\">class = Not Serious</text>\n</g>\n<!-- 2&#45;&gt;3 -->\n<g id=\"edge3\" class=\"edge\">\n<title>2&#45;&gt;3</title>\n<path fill=\"none\" stroke=\"black\" d=\"M214.8,-103.88C196.8,-93.83 177.58,-83.09 159.8,-73.16\"/>\n<polygon fill=\"black\" stroke=\"black\" points=\"161.08,-69.87 150.65,-68.04 157.67,-75.98 161.08,-69.87\"/>\n</g>\n<!-- 4 -->\n<g id=\"node5\" class=\"node\">\n<title>4</title>\n<polygon fill=\"#b9dcf6\" stroke=\"black\" points=\"390,-68 201,-68 201,0 390,0 390,-68\"/>\n<text text-anchor=\"middle\" x=\"295.5\" y=\"-52.8\" font-family=\"Helvetica,sans-Serif\" font-size=\"14.00\">entropy = 0.967</text>\n<text text-anchor=\"middle\" x=\"295.5\" y=\"-37.8\" font-family=\"Helvetica,sans-Serif\" font-size=\"14.00\">samples = 1312</text>\n<text text-anchor=\"middle\" x=\"295.5\" y=\"-22.8\" font-family=\"Helvetica,sans-Serif\" font-size=\"14.00\">value = [654.057, 1011.283]</text>\n<text text-anchor=\"middle\" x=\"295.5\" y=\"-7.8\" font-family=\"Helvetica,sans-Serif\" font-size=\"14.00\">class = Serious</text>\n</g>\n<!-- 2&#45;&gt;4 -->\n<g id=\"edge4\" class=\"edge\">\n<title>2&#45;&gt;4</title>\n<path fill=\"none\" stroke=\"black\" d=\"M290.48,-103.73C291.09,-95.43 291.73,-86.67 292.34,-78.28\"/>\n<polygon fill=\"black\" stroke=\"black\" points=\"295.83,-78.53 293.07,-68.3 288.85,-78.02 295.83,-78.53\"/>\n</g>\n<!-- 7 -->\n<g id=\"node8\" class=\"node\">\n<title>7</title>\n<polygon fill=\"#84c2ef\" stroke=\"black\" points=\"769,-187 586,-187 586,-104 769,-104 769,-187\"/>\n<text text-anchor=\"middle\" x=\"677.5\" y=\"-171.8\" font-family=\"Helvetica,sans-Serif\" font-size=\"14.00\">TIME &lt;= 23.042</text>\n<text text-anchor=\"middle\" x=\"677.5\" y=\"-156.8\" font-family=\"Helvetica,sans-Serif\" font-size=\"14.00\">entropy = 0.848</text>\n<text text-anchor=\"middle\" x=\"677.5\" y=\"-141.8\" font-family=\"Helvetica,sans-Serif\" font-size=\"14.00\">samples = 633</text>\n<text text-anchor=\"middle\" x=\"677.5\" y=\"-126.8\" font-family=\"Helvetica,sans-Serif\" font-size=\"14.00\">value = [313.706, 827.413]</text>\n<text text-anchor=\"middle\" x=\"677.5\" y=\"-111.8\" font-family=\"Helvetica,sans-Serif\" font-size=\"14.00\">class = Serious</text>\n</g>\n<!-- 6&#45;&gt;7 -->\n<g id=\"edge7\" class=\"edge\">\n<title>6&#45;&gt;7</title>\n<path fill=\"none\" stroke=\"black\" d=\"M681.42,-222.91C680.99,-214.56 680.53,-205.67 680.09,-197.02\"/>\n<polygon fill=\"black\" stroke=\"black\" points=\"683.59,-196.83 679.58,-187.02 676.59,-197.19 683.59,-196.83\"/>\n</g>\n<!-- 10 -->\n<g id=\"node11\" class=\"node\">\n<title>10</title>\n<polygon fill=\"#e58139\" stroke=\"black\" points=\"931.5,-187 787.5,-187 787.5,-104 931.5,-104 931.5,-187\"/>\n<text text-anchor=\"middle\" x=\"859.5\" y=\"-171.8\" font-family=\"Helvetica,sans-Serif\" font-size=\"14.00\">RANK &lt;= 5.5</text>\n<text text-anchor=\"middle\" x=\"859.5\" y=\"-156.8\" font-family=\"Helvetica,sans-Serif\" font-size=\"14.00\">entropy = 0.0</text>\n<text text-anchor=\"middle\" x=\"859.5\" y=\"-141.8\" font-family=\"Helvetica,sans-Serif\" font-size=\"14.00\">samples = 201</text>\n<text text-anchor=\"middle\" x=\"859.5\" y=\"-126.8\" font-family=\"Helvetica,sans-Serif\" font-size=\"14.00\">value = [101.05, 0.0]</text>\n<text text-anchor=\"middle\" x=\"859.5\" y=\"-111.8\" font-family=\"Helvetica,sans-Serif\" font-size=\"14.00\">class = Not Serious</text>\n</g>\n<!-- 6&#45;&gt;10 -->\n<g id=\"edge10\" class=\"edge\">\n<title>6&#45;&gt;10</title>\n<path fill=\"none\" stroke=\"black\" d=\"M744.56,-222.91C759.17,-213.2 774.87,-202.76 789.84,-192.81\"/>\n<polygon fill=\"black\" stroke=\"black\" points=\"792.16,-195.47 798.55,-187.02 788.28,-189.64 792.16,-195.47\"/>\n</g>\n<!-- 8 -->\n<g id=\"node9\" class=\"node\">\n<title>8</title>\n<polygon fill=\"#7ebfee\" stroke=\"black\" points=\"597,-68 414,-68 414,0 597,0 597,-68\"/>\n<text text-anchor=\"middle\" x=\"505.5\" y=\"-52.8\" font-family=\"Helvetica,sans-Serif\" font-size=\"14.00\">entropy = 0.824</text>\n<text text-anchor=\"middle\" x=\"505.5\" y=\"-37.8\" font-family=\"Helvetica,sans-Serif\" font-size=\"14.00\">samples = 582</text>\n<text text-anchor=\"middle\" x=\"505.5\" y=\"-22.8\" font-family=\"Helvetica,sans-Serif\" font-size=\"14.00\">value = [288.067, 827.413]</text>\n<text text-anchor=\"middle\" x=\"505.5\" y=\"-7.8\" font-family=\"Helvetica,sans-Serif\" font-size=\"14.00\">class = Serious</text>\n</g>\n<!-- 7&#45;&gt;8 -->\n<g id=\"edge8\" class=\"edge\">\n<title>7&#45;&gt;8</title>\n<path fill=\"none\" stroke=\"black\" d=\"M613.45,-103.73C598.04,-93.92 581.63,-83.46 566.37,-73.75\"/>\n<polygon fill=\"black\" stroke=\"black\" points=\"567.85,-70.54 557.53,-68.13 564.09,-76.45 567.85,-70.54\"/>\n</g>\n<!-- 9 -->\n<g id=\"node10\" class=\"node\">\n<title>9</title>\n<polygon fill=\"#e58139\" stroke=\"black\" points=\"759.5,-68 615.5,-68 615.5,0 759.5,0 759.5,-68\"/>\n<text text-anchor=\"middle\" x=\"687.5\" y=\"-52.8\" font-family=\"Helvetica,sans-Serif\" font-size=\"14.00\">entropy = 0.0</text>\n<text text-anchor=\"middle\" x=\"687.5\" y=\"-37.8\" font-family=\"Helvetica,sans-Serif\" font-size=\"14.00\">samples = 51</text>\n<text text-anchor=\"middle\" x=\"687.5\" y=\"-22.8\" font-family=\"Helvetica,sans-Serif\" font-size=\"14.00\">value = [25.639, 0.0]</text>\n<text text-anchor=\"middle\" x=\"687.5\" y=\"-7.8\" font-family=\"Helvetica,sans-Serif\" font-size=\"14.00\">class = Not Serious</text>\n</g>\n<!-- 7&#45;&gt;9 -->\n<g id=\"edge9\" class=\"edge\">\n<title>7&#45;&gt;9</title>\n<path fill=\"none\" stroke=\"black\" d=\"M681.22,-103.73C681.98,-95.43 682.78,-86.67 683.55,-78.28\"/>\n<polygon fill=\"black\" stroke=\"black\" points=\"687.03,-78.58 684.46,-68.3 680.06,-77.94 687.03,-78.58\"/>\n</g>\n<!-- 11 -->\n<g id=\"node12\" class=\"node\">\n<title>11</title>\n<polygon fill=\"#e58139\" stroke=\"black\" points=\"924.5,-68 780.5,-68 780.5,0 924.5,0 924.5,-68\"/>\n<text text-anchor=\"middle\" x=\"852.5\" y=\"-52.8\" font-family=\"Helvetica,sans-Serif\" font-size=\"14.00\">entropy = 0.0</text>\n<text text-anchor=\"middle\" x=\"852.5\" y=\"-37.8\" font-family=\"Helvetica,sans-Serif\" font-size=\"14.00\">samples = 118</text>\n<text text-anchor=\"middle\" x=\"852.5\" y=\"-22.8\" font-family=\"Helvetica,sans-Serif\" font-size=\"14.00\">value = [59.323, 0.0]</text>\n<text text-anchor=\"middle\" x=\"852.5\" y=\"-7.8\" font-family=\"Helvetica,sans-Serif\" font-size=\"14.00\">class = Not Serious</text>\n</g>\n<!-- 10&#45;&gt;11 -->\n<g id=\"edge11\" class=\"edge\">\n<title>10&#45;&gt;11</title>\n<path fill=\"none\" stroke=\"black\" d=\"M856.89,-103.73C856.36,-95.43 855.8,-86.67 855.27,-78.28\"/>\n<polygon fill=\"black\" stroke=\"black\" points=\"858.76,-78.06 854.63,-68.3 851.77,-78.5 858.76,-78.06\"/>\n</g>\n<!-- 12 -->\n<g id=\"node13\" class=\"node\">\n<title>12</title>\n<polygon fill=\"#e58139\" stroke=\"black\" points=\"1086.5,-68 942.5,-68 942.5,0 1086.5,0 1086.5,-68\"/>\n<text text-anchor=\"middle\" x=\"1014.5\" y=\"-52.8\" font-family=\"Helvetica,sans-Serif\" font-size=\"14.00\">entropy = 0.0</text>\n<text text-anchor=\"middle\" x=\"1014.5\" y=\"-37.8\" font-family=\"Helvetica,sans-Serif\" font-size=\"14.00\">samples = 83</text>\n<text text-anchor=\"middle\" x=\"1014.5\" y=\"-22.8\" font-family=\"Helvetica,sans-Serif\" font-size=\"14.00\">value = [41.727, 0.0]</text>\n<text text-anchor=\"middle\" x=\"1014.5\" y=\"-7.8\" font-family=\"Helvetica,sans-Serif\" font-size=\"14.00\">class = Not Serious</text>\n</g>\n<!-- 10&#45;&gt;12 -->\n<g id=\"edge12\" class=\"edge\">\n<title>10&#45;&gt;12</title>\n<path fill=\"none\" stroke=\"black\" d=\"M917.22,-103.73C930.9,-94.06 945.47,-83.77 959.05,-74.17\"/>\n<polygon fill=\"black\" stroke=\"black\" points=\"961.22,-76.93 967.36,-68.3 957.18,-71.21 961.22,-76.93\"/>\n</g>\n</g>\n</svg>\n",
      "text/plain": [
       "<graphviz.files.Source at 0x7fa828d2a550>"
      ]
     },
     "execution_count": 138,
     "metadata": {},
     "output_type": "execute_result"
    }
   ],
   "source": [
    "## Visualize reduced tree\n",
    "dot_data = tree.export_graphviz(reduced_clf, out_file=None, feature_names=cols, class_names=[\"Not Serious\", \"Serious\"], filled=True)\n",
    "graph = graphviz.Source(dot_data, format=\"png\") \n",
    "graph"
   ]
  }
 ],
 "metadata": {
  "interpreter": {
   "hash": "20430a0aed107d066c69a6d9f1315abeb145bebdd695c548ac3563ccc6f3d22a"
  },
  "kernelspec": {
   "display_name": "Python 3.8.3 64-bit ('optimization': conda)",
   "name": "python3"
  },
  "language_info": {
   "codemirror_mode": {
    "name": "ipython",
    "version": 3
   },
   "file_extension": ".py",
   "mimetype": "text/x-python",
   "name": "python",
   "nbconvert_exporter": "python",
   "pygments_lexer": "ipython3",
   "version": "3.8.3"
  },
  "orig_nbformat": 4
 },
 "nbformat": 4,
 "nbformat_minor": 2
}
